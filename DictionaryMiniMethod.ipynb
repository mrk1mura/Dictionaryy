{
 "cells": [
  {
   "cell_type": "code",
   "execution_count": 19,
   "id": "19832266-c975-46e2-90ef-0f2358458dd1",
   "metadata": {},
   "outputs": [],
   "source": [
    "fitness={\"Pull Down\":\"3 set 12 tekrar\",\"Chin Up\":\"3 set tükeniş\"}"
   ]
  },
  {
   "cell_type": "code",
   "execution_count": 21,
   "id": "a39c662c-59d3-4514-9a78-71599ddad45a",
   "metadata": {},
   "outputs": [
    {
     "data": {
      "text/plain": [
       "dict_keys(['Pull Down', 'Chin Up'])"
      ]
     },
     "execution_count": 21,
     "metadata": {},
     "output_type": "execute_result"
    }
   ],
   "source": [
    "fitness.keys()"
   ]
  },
  {
   "cell_type": "markdown",
   "id": "ba8a2a5f-ee5e-45c9-8fff-13b9c63acc4e",
   "metadata": {},
   "source": [
    "# .Keys Methodu Dictionary içerisindeki Ana keyleri gösterir."
   ]
  },
  {
   "cell_type": "code",
   "execution_count": 25,
   "id": "e7415d7d-83dd-4feb-9345-86fec09d6cc7",
   "metadata": {},
   "outputs": [
    {
     "data": {
      "text/plain": [
       "dict_values(['3 set 12 tekrar', '3 set tükeniş'])"
      ]
     },
     "execution_count": 25,
     "metadata": {},
     "output_type": "execute_result"
    }
   ],
   "source": [
    "fitness.values()"
   ]
  },
  {
   "cell_type": "markdown",
   "id": "6de380b1-e6f8-4261-b07b-93c6e9bc0a5d",
   "metadata": {},
   "source": [
    "# .Values Methodu Ana keyler içerisindeki değeri bize gösterir."
   ]
  },
  {
   "cell_type": "code",
   "execution_count": null,
   "id": "e4f91c9c-04ff-4169-990d-440cd8adb8e2",
   "metadata": {},
   "outputs": [],
   "source": []
  }
 ],
 "metadata": {
  "kernelspec": {
   "display_name": "Python 3 (ipykernel)",
   "language": "python",
   "name": "python3"
  },
  "language_info": {
   "codemirror_mode": {
    "name": "ipython",
    "version": 3
   },
   "file_extension": ".py",
   "mimetype": "text/x-python",
   "name": "python",
   "nbconvert_exporter": "python",
   "pygments_lexer": "ipython3",
   "version": "3.12.4"
  }
 },
 "nbformat": 4,
 "nbformat_minor": 5
}
